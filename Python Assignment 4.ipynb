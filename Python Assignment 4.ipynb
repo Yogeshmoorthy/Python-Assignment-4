{
 "cells": [
  {
   "cell_type": "markdown",
   "metadata": {},
   "source": [
    "# Write a Python Program(with class concepts) to find the area of the triangle"
   ]
  },
  {
   "cell_type": "code",
   "execution_count": 4,
   "metadata": {},
   "outputs": [
    {
     "name": "stdout",
     "output_type": "stream",
     "text": [
      "Enter a value : 2\n",
      "Enter b value : 7\n",
      "Enter c value : 7\n",
      "Area for your triangle :  6.928203230275509\n"
     ]
    },
    {
     "data": {
      "text/plain": [
       "<__main__.triangle at 0x5dd60d0>"
      ]
     },
     "execution_count": 4,
     "metadata": {},
     "output_type": "execute_result"
    }
   ],
   "source": [
    "class parameters:\n",
    "    def _init_(self,a,b,c):\n",
    "        self.a = a\n",
    "        self.b = b\n",
    "        self.c = c     \n",
    "        #self.s = s\n",
    "    a = int(input('Enter a value : '))\n",
    "    b = int(input('Enter b value : '))\n",
    "    c = int(input('Enter c value : '))\n",
    "    #s = int(input('Enter s value : '))\n",
    "    \n",
    "    \n",
    "class triangle(parameters):\n",
    "    a = parameters.a\n",
    "    b = parameters.b\n",
    "    c = parameters.c\n",
    "    #s = parameters.s\n",
    "    s = (a+b+c)/2\n",
    "    area = (s*(s-a)*(s-b)*(s-c)) ** 0.5\n",
    "    print(\"Area for your triangle : \",area)\n",
    "\n",
    "    \n",
    "t = triangle()\n",
    "t"
   ]
  },
  {
   "cell_type": "markdown",
   "metadata": {},
   "source": [
    "# Write a function filter_long_words() that takes a list of words and an integer n and returns the list of words that are longer than n."
   ]
  },
  {
   "cell_type": "code",
   "execution_count": 45,
   "metadata": {},
   "outputs": [
    {
     "name": "stdout",
     "output_type": "stream",
     "text": [
      "Enter number of elements : 3\n",
      "Enter the element in string format : wqe\n",
      "Enter the element in string format : asdfdgf\n",
      "Enter the element in string format : zxcxvcbvn\n",
      "The List you are passing is :  ['wqe', 'asdfdgf', 'zxcxvcbvn']\n",
      "Enter the number to filter : 3\n",
      "Result for the filter is :  ['asdfdgf', 'zxcxvcbvn']\n"
     ]
    }
   ],
   "source": [
    "input_list = []\n",
    "ele = int(input(\"Enter number of elements in your input list: \")) \n",
    "for i in range(ele):\n",
    "    element = str(input(\"Enter the value in string format : \"))\n",
    "    input_list.append(element)\n",
    "print('The List you are passing is : ',input_list)\n",
    "n = int(input(\"Enter the number to filter : \"))\n",
    "\n",
    "def filter_long_words(x,y):\n",
    "    output = []\n",
    "    for i in x:\n",
    "        if len(i) > y:\n",
    "            output.append(i)\n",
    "    print('Result for the filter is : ',output)\n",
    "filter_long_words(input_list,n)"
   ]
  },
  {
   "cell_type": "markdown",
   "metadata": {},
   "source": [
    "# Write a Python program using function concept that maps list of words into a list of integers representing the lengths of the corresponding words."
   ]
  },
  {
   "cell_type": "code",
   "execution_count": 5,
   "metadata": {},
   "outputs": [
    {
     "name": "stdout",
     "output_type": "stream",
     "text": [
      "Enter number of elements in your input list : 5\n",
      "Enter the value in string format : America\n",
      "Enter the value in string format : Russia\n",
      "Enter the value in string format : India\n",
      "Enter the value in string format : China\n",
      "Enter the value in string format : Spain\n",
      "The List you are passing is :  ['America', 'Russia', 'India', 'China', 'Spain']\n",
      "Your result is :  [7, 6, 5, 5, 5]\n"
     ]
    }
   ],
   "source": [
    "input_list = []\n",
    "ele = int(input(\"Enter number of elements in your input list : \")) \n",
    "for i in range(ele):\n",
    "    element = str(input(\"Enter the value in string format : \"))\n",
    "    input_list.append(element)\n",
    "print('The List you are passing is : ',input_list)\n",
    "\n",
    "def findlen(x):\n",
    "    output = []\n",
    "    for i in x:\n",
    "        output.append(len(i))\n",
    "    print('Your result is : ',output)\n",
    "    \n",
    "findlen(input_list)"
   ]
  },
  {
   "cell_type": "markdown",
   "metadata": {},
   "source": [
    "#### Write a Python function which takes a character (i.e. a string of length 1) and returns True if it is a vowel, False otherwise."
   ]
  },
  {
   "cell_type": "code",
   "execution_count": 6,
   "metadata": {},
   "outputs": [
    {
     "name": "stdout",
     "output_type": "stream",
     "text": [
      "Enter the character of length 1 to check for vowels : E\n",
      "True\n"
     ]
    }
   ],
   "source": [
    "input_value = str(input('Enter the character of length 1 to check for vowels : '))\n",
    "def vowels(x):\n",
    "    letters = ['a','e','i','o','u','A','E','I','O','U']\n",
    "    if x in letters:\n",
    "        print (True)\n",
    "    else:\n",
    "        print(False)\n",
    "vowels(input_value)"
   ]
  }
 ],
 "metadata": {
  "kernelspec": {
   "display_name": "Python 3",
   "language": "python",
   "name": "python3"
  },
  "language_info": {
   "codemirror_mode": {
    "name": "ipython",
    "version": 3
   },
   "file_extension": ".py",
   "mimetype": "text/x-python",
   "name": "python",
   "nbconvert_exporter": "python",
   "pygments_lexer": "ipython3",
   "version": "3.8.5"
  }
 },
 "nbformat": 4,
 "nbformat_minor": 4
}
